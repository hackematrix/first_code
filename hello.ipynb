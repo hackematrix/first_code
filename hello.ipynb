import numpy as np
x=np.array([[1,2],
            [2,4]])
y=np.array([[1,1],
            [2,4]])
z=np.dot(x,y)
print(z)
